{
 "cells": [
  {
   "cell_type": "code",
   "execution_count": 4,
   "metadata": {},
   "outputs": [],
   "source": [
    "MATICMaximumLTV = 0.50\n",
    "\n",
    "MATICLiquidationthreshold = 0.65\n",
    "\n",
    "MATICLiquidationpenalty = .10\n",
    "\n",
    "DAIMaximumLTV = 0.75\n",
    "\n",
    "DAILiquidationthreshold =  0.80\n",
    "\n",
    "DAILiquidationpenalty = 0.05\n",
    "\n",
    "USDCMaximumLTV = 0.80\n",
    "\n",
    "USDCLiquidationthreshold = 0.85\n",
    "\n",
    "USDCLiquidationpenalty = 0.05\n",
    "\n",
    "USDTMaximumLTV = 0.0\n",
    "\n",
    "WETHMaximumLTV = 0.80\n",
    "\n",
    "WETHLiquidationthreshold = 0.825\n",
    "\n",
    "WETHLiquidationpenalty = 0.05\n",
    "\n",
    "WBTCMaximumLTV = 0.70\n",
    "\n",
    "WBTCLiquidationthreshold = 0.75\n",
    "\n",
    "WBTCLiquidationpenalty = 0.10\n",
    "\n",
    "AAVEMaximumLTV = 0.50\n",
    "\n",
    "AAVELiquidationthreshold = 0.65\n",
    "\n",
    "AAVELiquidationpenalty = 0.10"
   ]
  },
  {
   "cell_type": "code",
   "execution_count": null,
   "metadata": {},
   "outputs": [],
   "source": []
  }
 ],
 "metadata": {
  "kernelspec": {
   "display_name": "Python 3",
   "language": "python",
   "name": "python3"
  },
  "language_info": {
   "codemirror_mode": {
    "name": "ipython",
    "version": 3
   },
   "file_extension": ".py",
   "mimetype": "text/x-python",
   "name": "python",
   "nbconvert_exporter": "python",
   "pygments_lexer": "ipython3",
   "version": "3.8.5"
  }
 },
 "nbformat": 4,
 "nbformat_minor": 4
}
