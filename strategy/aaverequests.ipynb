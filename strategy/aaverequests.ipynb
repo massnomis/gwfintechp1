# %%
import requests
import json
import pandas as pd
from datetime import datetime, timedelta
import time
# %%
base_url = 'https://aave-api-v2.aave.com/data/liquidity/v2?poolId=' # This is the base API URL
pool_id = '0xd05e3e715d945b59290df0ae8ef85c1bdb684744' # This is the Pool ID for the Matic Network
# %%
range_of_dates = pd.date_range(start = "2021-01-01",end = (datetime.today() - timedelta(days = 1))).date # List of dates from the start of the AAVE API to yesterday
list_of_dates = []
for date in range_of_dates: # For each date in the list of dates
    list_of_dates.append(date.strftime("%m-%d-%Y")) # Format it correctly for use in the API and append it to a new list
# %%
col_names = ['Date','Symbol','Price in ETH', 'Deposit Rate', 'Deposit Rewards'] # These are the fields we want
matic_dataframe = pd.DataFrame(columns = col_names) # Create an empty DataFrame with the column headers
# %%
for date in list_of_dates: # For each date in the list
    print(date) # Show progress as the API is runnin
    request_url = base_url + pool_id + '&date=' + date # Build the Request URL by combining the base, poolID we want, and one date out of the list of dates
    response_data = requests.get(request_url).json() # Make the request and return the data
    while isinstance(response_data, dict) == True: # If we get an error back
        print(json.dumps(response_data, indent=4)) # Dump the error
        time.sleep(5) # Wait 5 seconds to get around rate limiting
        response_data = requests.get(request_url).json() # Try again
    for response in response_data: # For each element in the response
        if response['symbol'] in ['USDC', 'DAI', 'USDT']: # If the element in the response is a StableCoin
            dict_to_append = { # Set the values of the row we want to append to the DataFrame
                'Date' : date, # Date is the date we queried for
                'Symbol' : response['symbol'], # Set symbol in the row to the symbol the API returns
                'Price in ETH' : response['price']['priceInEth'], # Set price in the row to the price in Eth the API returns
                'Deposit Rate' : response['liquidityRate'], # Set deposit rate to the deposit rate the API returns
                'Deposit Rewards' : response['aIncentivesAPY'] # Set deposit rewards to the rate the API returns
            }
            matic_dataframe = matic_dataframe.append(dict_to_append, ignore_index = True) # Append the row to the DataFrame
# %%
#--------Once you've imported the data, only ever run from this cell downwards---------
editing_dataframe = matic_dataframe # Resets the dataframe to the one imported, that way you don't have to rerun the import everytime. Placeholder until Thomas gets the csv writeout completed.
editing_dataframe.head() # Use editing_dataframe as your reference dataframe moving forward until the CSV writing gets completed.
# %%
