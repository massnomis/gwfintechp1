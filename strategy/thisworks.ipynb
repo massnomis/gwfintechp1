{
 "cells": [
  {
   "cell_type": "code",
   "execution_count": 6,
   "metadata": {},
   "outputs": [
    {
     "name": "stdout",
     "output_type": "stream",
     "text": [
      "05-01-2021\n",
      "05-02-2021\n",
      "05-03-2021\n",
      "05-04-2021\n",
      "05-05-2021\n",
      "05-06-2021\n",
      "05-07-2021\n",
      "05-08-2021\n",
      "05-09-2021\n",
      "05-10-2021\n",
      "05-11-2021\n",
      "05-12-2021\n",
      "05-13-2021\n",
      "05-14-2021\n",
      "05-15-2021\n",
      "05-16-2021\n",
      "05-17-2021\n",
      "05-18-2021\n",
      "05-19-2021\n",
      "05-20-2021\n",
      "05-21-2021\n",
      "05-22-2021\n",
      "05-23-2021\n",
      "05-24-2021\n",
      "05-25-2021\n",
      "05-26-2021\n"
     ]
    }
   ],
   "source": [
    "# %%\n",
    "import requests\n",
    "import json\n",
    "import pandas as pd\n",
    "from datetime import datetime, timedelta\n",
    "import time\n",
    "import csv\n",
    "# %%\n",
    "base_url = 'https://aave-api-v2.aave.com/data/liquidity/v2?poolId=' # This is the base API URL\n",
    "pool_id = '0xd05e3e715d945b59290df0ae8ef85c1bdb684744' # This is the Pool ID for the Matic Network\n",
    "# %%\n",
    "range_of_dates = pd.date_range(start = \"2021-05-01\",end = (datetime.today() - timedelta(days = 1))).date # List of dates from the start of the AAVE API to yesterday\n",
    "list_of_dates = []\n",
    "for date in range_of_dates: # For each date in the list of dates\n",
    "    list_of_dates.append(date.strftime(\"%m-%d-%Y\")) # Format it correctly for use in the API and append it to a new list\n",
    "# %%\n",
    "col_names = ['Date','Symbol','Price in ETH', 'Deposit Rate', 'Deposit Rewards'] # These are the fields we want\n",
    "matic_dataframe = pd.DataFrame(columns = col_names) # Create an empty DataFrame with the column headers\n",
    "# %%\n",
    "for date in list_of_dates: # For each date in the list\n",
    "    print(date) # Show progress as the API is runnin\n",
    "    request_url = base_url + pool_id + '&date=' + date # Build the Request URL by combining the base, poolID we want, and one date out of the list of dates\n",
    "    response_data = requests.get(request_url).json() # Make the request and return the data\n",
    "    while isinstance(response_data, dict) == True: # If we get an error back\n",
    "        print(json.dumps(response_data, indent=4)) # Dump the error\n",
    "        time.sleep(5) # Wait 5 seconds to get around rate limiting\n",
    "        response_data = requests.get(request_url).json() # Try again\n",
    "    for response in response_data: # For each element in the response\n",
    "        if response['symbol'] in ['USDC', 'DAI', 'USDT']: # If the element in the response is a StableCoin\n",
    "            dict_to_append = { # Set the values of the row we want to append to the DataFrame\n",
    "                'Date' : date, # Date is the date we queried for\n",
    "                'Symbol' : response['symbol'], # Set symbol in the row to the symbol the API returns\n",
    "                'Price in ETH' : response['price']['priceInEth'], # Set price in the row to the price in Eth the API returns\n",
    "                'Deposit Rate' : response['liquidityRate'], # Set deposit rate to the deposit rate the API returns\n",
    "                'Deposit Rewards' : response['aIncentivesAPY'] # Set deposit rewards to the rate the API returns\n",
    "                \n",
    "            }\n",
    "            matic_dataframe = matic_dataframe.append(dict_to_append, ignore_index = True) # Append the row to the DataFrame\n",
    "# %%\n",
    "#--------Once you've imported the data, only ever run from this cell downwards---------\n",
    "\n",
    "# %%"
   ]
  },
  {
   "cell_type": "code",
   "execution_count": 3,
   "metadata": {},
   "outputs": [
    {
     "data": {
      "text/html": [
       "<div>\n",
       "<style scoped>\n",
       "    .dataframe tbody tr th:only-of-type {\n",
       "        vertical-align: middle;\n",
       "    }\n",
       "\n",
       "    .dataframe tbody tr th {\n",
       "        vertical-align: top;\n",
       "    }\n",
       "\n",
       "    .dataframe thead th {\n",
       "        text-align: right;\n",
       "    }\n",
       "</style>\n",
       "<table border=\"1\" class=\"dataframe\">\n",
       "  <thead>\n",
       "    <tr style=\"text-align: right;\">\n",
       "      <th></th>\n",
       "      <th>Date</th>\n",
       "      <th>Symbol</th>\n",
       "      <th>Price in ETH</th>\n",
       "      <th>Deposit Rate</th>\n",
       "      <th>Deposit Rewards</th>\n",
       "    </tr>\n",
       "  </thead>\n",
       "  <tbody>\n",
       "    <tr>\n",
       "      <th>73</th>\n",
       "      <td>05-25-2021</td>\n",
       "      <td>DAI</td>\n",
       "      <td>0.000367115</td>\n",
       "      <td>0.03849110517476686776</td>\n",
       "      <td>0.0572586300722230257</td>\n",
       "    </tr>\n",
       "    <tr>\n",
       "      <th>74</th>\n",
       "      <td>05-25-2021</td>\n",
       "      <td>USDT</td>\n",
       "      <td>0.0003666243362779</td>\n",
       "      <td>0.11197595611007589013</td>\n",
       "      <td>0.15019773243657768398</td>\n",
       "    </tr>\n",
       "    <tr>\n",
       "      <th>75</th>\n",
       "      <td>05-26-2021</td>\n",
       "      <td>USDC</td>\n",
       "      <td>0.000369119141212669</td>\n",
       "      <td>0.01757058813191149613</td>\n",
       "      <td>0.03393832672936110354</td>\n",
       "    </tr>\n",
       "    <tr>\n",
       "      <th>76</th>\n",
       "      <td>05-26-2021</td>\n",
       "      <td>DAI</td>\n",
       "      <td>0.00036745</td>\n",
       "      <td>0.04344570737156507196</td>\n",
       "      <td>0.05542183274744406001</td>\n",
       "    </tr>\n",
       "    <tr>\n",
       "      <th>77</th>\n",
       "      <td>05-26-2021</td>\n",
       "      <td>USDT</td>\n",
       "      <td>0.000368550064012567</td>\n",
       "      <td>0.0377888141978660952</td>\n",
       "      <td>0.12787787401990285745</td>\n",
       "    </tr>\n",
       "  </tbody>\n",
       "</table>\n",
       "</div>"
      ],
      "text/plain": [
       "          Date Symbol          Price in ETH            Deposit Rate  \\\n",
       "73  05-25-2021    DAI           0.000367115  0.03849110517476686776   \n",
       "74  05-25-2021   USDT    0.0003666243362779  0.11197595611007589013   \n",
       "75  05-26-2021   USDC  0.000369119141212669  0.01757058813191149613   \n",
       "76  05-26-2021    DAI            0.00036745  0.04344570737156507196   \n",
       "77  05-26-2021   USDT  0.000368550064012567   0.0377888141978660952   \n",
       "\n",
       "           Deposit Rewards  \n",
       "73   0.0572586300722230257  \n",
       "74  0.15019773243657768398  \n",
       "75  0.03393832672936110354  \n",
       "76  0.05542183274744406001  \n",
       "77  0.12787787401990285745  "
      ]
     },
     "execution_count": 3,
     "metadata": {},
     "output_type": "execute_result"
    }
   ],
   "source": [
    "editing_dataframe.tail()"
   ]
  },
  {
   "cell_type": "code",
   "execution_count": 16,
   "metadata": {},
   "outputs": [],
   "source": [
    "editing_dataframe = matic_dataframe # Resets the dataframe to the one imported, that way you don't have to rerun the import everytime. Placeholder until Thomas gets the csv writeout completed.\n",
    "editing_dataframe.head() # Use editing_dataframe as your reference dataframe moving forward until the CSV writing gets completedv\n",
    "matic_dataframe.to_csv (r'C:\\Users\\user\\Desktop\\export_dataframe.csv', index = False, header=True)"
   ]
  },
  {
   "cell_type": "code",
   "execution_count": 15,
   "metadata": {},
   "outputs": [
    {
     "ename": "TclError",
     "evalue": "bad window path name \".!button2\"",
     "output_type": "error",
     "traceback": [
      "\u001b[1;31m---------------------------------------------------------------------------\u001b[0m",
      "\u001b[1;31mTclError\u001b[0m                                  Traceback (most recent call last)",
      "\u001b[1;32m<ipython-input-15-a668ca4b1a98>\u001b[0m in \u001b[0;36m<module>\u001b[1;34m\u001b[0m\n\u001b[0;32m     12\u001b[0m \u001b[1;33m\u001b[0m\u001b[0m\n\u001b[0;32m     13\u001b[0m \u001b[0msaveAsButton_CSV\u001b[0m \u001b[1;33m=\u001b[0m \u001b[0mtk\u001b[0m\u001b[1;33m.\u001b[0m\u001b[0mButton\u001b[0m\u001b[1;33m(\u001b[0m\u001b[0mtext\u001b[0m\u001b[1;33m=\u001b[0m\u001b[1;34m'Export CSV'\u001b[0m\u001b[1;33m,\u001b[0m \u001b[0mcommand\u001b[0m\u001b[1;33m=\u001b[0m\u001b[0mexportCSV\u001b[0m\u001b[1;33m,\u001b[0m \u001b[0mbg\u001b[0m\u001b[1;33m=\u001b[0m\u001b[1;34m'green'\u001b[0m\u001b[1;33m,\u001b[0m \u001b[0mfg\u001b[0m\u001b[1;33m=\u001b[0m\u001b[1;34m'white'\u001b[0m\u001b[1;33m,\u001b[0m \u001b[0mfont\u001b[0m\u001b[1;33m=\u001b[0m\u001b[1;33m(\u001b[0m\u001b[1;34m'helvetica'\u001b[0m\u001b[1;33m,\u001b[0m \u001b[1;36m12\u001b[0m\u001b[1;33m,\u001b[0m \u001b[1;34m'bold'\u001b[0m\u001b[1;33m)\u001b[0m\u001b[1;33m)\u001b[0m\u001b[1;33m\u001b[0m\u001b[1;33m\u001b[0m\u001b[0m\n\u001b[1;32m---> 14\u001b[1;33m \u001b[0mcanvas1\u001b[0m\u001b[1;33m.\u001b[0m\u001b[0mcreate_window\u001b[0m\u001b[1;33m(\u001b[0m\u001b[1;36m150\u001b[0m\u001b[1;33m,\u001b[0m \u001b[1;36m150\u001b[0m\u001b[1;33m,\u001b[0m \u001b[0mwindow\u001b[0m\u001b[1;33m=\u001b[0m\u001b[0msaveAsButton_CSV\u001b[0m\u001b[1;33m)\u001b[0m\u001b[1;33m\u001b[0m\u001b[1;33m\u001b[0m\u001b[0m\n\u001b[0m\u001b[0;32m     15\u001b[0m \u001b[1;33m\u001b[0m\u001b[0m\n\u001b[0;32m     16\u001b[0m \u001b[0mroot\u001b[0m\u001b[1;33m.\u001b[0m\u001b[0mmainloop\u001b[0m\u001b[1;33m(\u001b[0m\u001b[1;33m)\u001b[0m\u001b[1;33m\u001b[0m\u001b[1;33m\u001b[0m\u001b[0m\n",
      "\u001b[1;32m~\\anaconda3\\lib\\tkinter\\__init__.py\u001b[0m in \u001b[0;36mcreate_window\u001b[1;34m(self, *args, **kw)\u001b[0m\n\u001b[0;32m   2807\u001b[0m     \u001b[1;32mdef\u001b[0m \u001b[0mcreate_window\u001b[0m\u001b[1;33m(\u001b[0m\u001b[0mself\u001b[0m\u001b[1;33m,\u001b[0m \u001b[1;33m*\u001b[0m\u001b[0margs\u001b[0m\u001b[1;33m,\u001b[0m \u001b[1;33m**\u001b[0m\u001b[0mkw\u001b[0m\u001b[1;33m)\u001b[0m\u001b[1;33m:\u001b[0m\u001b[1;33m\u001b[0m\u001b[1;33m\u001b[0m\u001b[0m\n\u001b[0;32m   2808\u001b[0m         \u001b[1;34m\"\"\"Create window with coordinates x1,y1,x2,y2.\"\"\"\u001b[0m\u001b[1;33m\u001b[0m\u001b[1;33m\u001b[0m\u001b[0m\n\u001b[1;32m-> 2809\u001b[1;33m         \u001b[1;32mreturn\u001b[0m \u001b[0mself\u001b[0m\u001b[1;33m.\u001b[0m\u001b[0m_create\u001b[0m\u001b[1;33m(\u001b[0m\u001b[1;34m'window'\u001b[0m\u001b[1;33m,\u001b[0m \u001b[0margs\u001b[0m\u001b[1;33m,\u001b[0m \u001b[0mkw\u001b[0m\u001b[1;33m)\u001b[0m\u001b[1;33m\u001b[0m\u001b[1;33m\u001b[0m\u001b[0m\n\u001b[0m\u001b[0;32m   2810\u001b[0m \u001b[1;33m\u001b[0m\u001b[0m\n\u001b[0;32m   2811\u001b[0m     \u001b[1;32mdef\u001b[0m \u001b[0mdchars\u001b[0m\u001b[1;33m(\u001b[0m\u001b[0mself\u001b[0m\u001b[1;33m,\u001b[0m \u001b[1;33m*\u001b[0m\u001b[0margs\u001b[0m\u001b[1;33m)\u001b[0m\u001b[1;33m:\u001b[0m\u001b[1;33m\u001b[0m\u001b[1;33m\u001b[0m\u001b[0m\n",
      "\u001b[1;32m~\\anaconda3\\lib\\tkinter\\__init__.py\u001b[0m in \u001b[0;36m_create\u001b[1;34m(self, itemType, args, kw)\u001b[0m\n\u001b[0;32m   2769\u001b[0m         \u001b[1;32melse\u001b[0m\u001b[1;33m:\u001b[0m\u001b[1;33m\u001b[0m\u001b[1;33m\u001b[0m\u001b[0m\n\u001b[0;32m   2770\u001b[0m             \u001b[0mcnf\u001b[0m \u001b[1;33m=\u001b[0m \u001b[1;33m{\u001b[0m\u001b[1;33m}\u001b[0m\u001b[1;33m\u001b[0m\u001b[1;33m\u001b[0m\u001b[0m\n\u001b[1;32m-> 2771\u001b[1;33m         return self.tk.getint(self.tk.call(\n\u001b[0m\u001b[0;32m   2772\u001b[0m             \u001b[0mself\u001b[0m\u001b[1;33m.\u001b[0m\u001b[0m_w\u001b[0m\u001b[1;33m,\u001b[0m \u001b[1;34m'create'\u001b[0m\u001b[1;33m,\u001b[0m \u001b[0mitemType\u001b[0m\u001b[1;33m,\u001b[0m\u001b[1;33m\u001b[0m\u001b[1;33m\u001b[0m\u001b[0m\n\u001b[0;32m   2773\u001b[0m             *(args + self._options(cnf, kw))))\n",
      "\u001b[1;31mTclError\u001b[0m: bad window path name \".!button2\""
     ]
    }
   ],
   "source": []
  },
  {
   "cell_type": "code",
   "execution_count": null,
   "metadata": {},
   "outputs": [],
   "source": []
  }
 ],
 "metadata": {
  "kernelspec": {
   "display_name": "Python 3",
   "language": "python",
   "name": "python3"
  },
  "language_info": {
   "codemirror_mode": {
    "name": "ipython",
    "version": 3
   },
   "file_extension": ".py",
   "mimetype": "text/x-python",
   "name": "python",
   "nbconvert_exporter": "python",
   "pygments_lexer": "ipython3",
   "version": "3.8.5"
  }
 },
 "nbformat": 4,
 "nbformat_minor": 4
}
