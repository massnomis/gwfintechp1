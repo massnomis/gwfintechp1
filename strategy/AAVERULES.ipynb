{
 "cells": [
  {
   "cell_type": "code",
   "execution_count": 15,
   "metadata": {},
   "outputs": [
    {
     "ename": "SyntaxError",
     "evalue": "unexpected EOF while parsing (<ipython-input-15-aec4d101425e>, line 5)",
     "output_type": "error",
     "traceback": [
      "\u001b[1;36m  File \u001b[1;32m\"<ipython-input-15-aec4d101425e>\"\u001b[1;36m, line \u001b[1;32m5\u001b[0m\n\u001b[1;33m    response = request.json\u001b[0m\n\u001b[1;37m                           ^\u001b[0m\n\u001b[1;31mSyntaxError\u001b[0m\u001b[1;31m:\u001b[0m unexpected EOF while parsing\n"
     ]
    }
   ],
   "source": []
  },
  {
   "cell_type": "code",
   "execution_count": 18,
   "metadata": {},
   "outputs": [
    {
     "ename": "NameError",
     "evalue": "name 'Borrows' is not defined",
     "output_type": "error",
     "traceback": [
      "\u001b[1;31m---------------------------------------------------------------------------\u001b[0m",
      "\u001b[1;31mNameError\u001b[0m                                 Traceback (most recent call last)",
      "\u001b[1;32m<ipython-input-18-24d49663f37b>\u001b[0m in \u001b[0;36m<module>\u001b[1;34m\u001b[0m\n\u001b[1;32m----> 1\u001b[1;33m \u001b[0mUTIL\u001b[0m \u001b[1;33m=\u001b[0m \u001b[0mBorrows\u001b[0m \u001b[1;33m/\u001b[0m \u001b[0mTotal_liqiudity\u001b[0m\u001b[1;33m\u001b[0m\u001b[1;33m\u001b[0m\u001b[0m\n\u001b[0m\u001b[0;32m      2\u001b[0m \u001b[0mlend_apy\u001b[0m \u001b[1;33m=\u001b[0m \u001b[0mUTIL\u001b[0m \u001b[1;33m*\u001b[0m \u001b[1;33m(\u001b[0m\u001b[0mVariable_Rate\u001b[0m\u001b[1;33m)\u001b[0m \u001b[1;33m*\u001b[0m \u001b[1;33m(\u001b[0m\u001b[1;36m1\u001b[0m \u001b[1;33m-\u001b[0m \u001b[0mReserve_Facotor\u001b[0m\u001b[1;33m)\u001b[0m\u001b[1;33m\u001b[0m\u001b[1;33m\u001b[0m\u001b[0m\n\u001b[0;32m      3\u001b[0m \u001b[1;33m\u001b[0m\u001b[0m\n\u001b[0;32m      4\u001b[0m \u001b[0mMATICMaximumLTV\u001b[0m \u001b[1;33m=\u001b[0m \u001b[1;36m0.50\u001b[0m\u001b[1;33m\u001b[0m\u001b[1;33m\u001b[0m\u001b[0m\n\u001b[0;32m      5\u001b[0m \u001b[1;33m\u001b[0m\u001b[0m\n",
      "\u001b[1;31mNameError\u001b[0m: name 'Borrows' is not defined"
     ]
    }
   ],
   "source": [
    "MATICMaximumLTV = 0.50\n",
    "MATICLiquidationthreshold = 0.65\n",
    "MATICLiquidationpenalty = .10\n",
    "MATIC_Ideal_UTIL = 0.45\n",
    "MATIC_BASE = 0\n",
    "MATIC_at_ideal = 0.07\n",
    "MATIC_at_Full = 3\n",
    "MATIC_Reserve_Factor = 0.2\n",
    "MATICBorrows = \n",
    "MATICTotal_liqiudity = \n",
    "MATICUTIL = MATICBorrows / MATICTotal_liqiudity\n",
    "MATICVariable_Rate = \n",
    "MATICLend_APY = MATIC UTIL * (MATICVariable_Rate) * (1 - MATIC_Reserve_Factor)\n",
    "\n",
    "DAIMaximumLTV = 0.75\n",
    "DAILiquidationthreshold =  0.80\n",
    "DAILiquidationpenalty = 0.05\n",
    "DAI_Ideal_UTIL = 0.80\n",
    "DAI_BASE = 0\n",
    "DAI_at_ideal = 0.04\n",
    "DAI_at_Full = 0.75\n",
    "DAI_Reserve_Factor = 0.1\n",
    "DAIBorrows = \n",
    "DAITotal_liqiudity = \n",
    "DAIUTIL = DAIBorrows / DAITotal_liqiudity\n",
    "DAILend_APY = DAIUTIL * (DAIVariable_Rate) * (1 - DAI_Reserve_Factor)\n",
    "\n",
    "USDCMaximumLTV = 0.80\n",
    "USDCLiquidationthreshold = 0.85\n",
    "USDCLiquidationpenalty = 0.05\n",
    "USDC_Ideal_UTIL = 0.90\n",
    "USDC_BASE = 0\n",
    "USDC_at_ideal = 0.04\n",
    "USDC_at_Full = 0.6\n",
    "USDC_Reserve_Factor = 0.1\n",
    "USDCBorrows = \n",
    "USDCTotal_liqiudity = \n",
    "USDCUTIL = USDCBorrows / USDCTotal_liqiudity\n",
    "USDCLend_APY = USDCUTIL * (USDCVariable_Rate) * (1 - USDC_Reserve_Factor)\n",
    "\n",
    "\n",
    "USDTMaximumLTV = 0.0\n",
    "USDT_Ideal_UTIL = 0.90\n",
    "USDT_BASE = 0\n",
    "USDT_at_ideal = 0.04\n",
    "USDT_at_Full = 0.6\n",
    "USDT_Reserve_Factor = 0.1\n",
    "USDTBorrows = \n",
    "USDTTotal_liqiudity = \n",
    "USDTUTIL = USDTBorrows / USDTTotal_liqiudity\n",
    "USDTLend_APY = USDTUTIL * (USDTVariable_Rate) * (1 - USDT_Reserve_Factor)\n",
    "\n",
    "WETHMaximumLTV = 0.80\n",
    "WETHLiquidationthreshold = 0.825\n",
    "WETHLiquidationpenalty = 0.05\n",
    "WETH_Ideal_UTIL = 0.65\n",
    "WETH_BASE = 0\n",
    "WETH_at_ideal = 0.08\n",
    "WETH_at_Full = 1\n",
    "WETH_Reserve_Factor = 0.1\n",
    "WETHBorrows = \n",
    "WETHTotal_liqiudity = \n",
    "WETHUTIL = WETHBorrows / WETHTotal_liqiudity\n",
    "WETHLend_APY = WETHUTIL * (WETHVariable_Rate) * (1 - WETH_Reserve_Factor)\n",
    "\n",
    "\n",
    "\n",
    "WBTCMaximumLTV = 0.70\n",
    "WBTCLiquidationthreshold = 0.75\n",
    "WBTCLiquidationpenalty = 0.10\n",
    "WBTC_Ideal_UTIL = 0.45\n",
    "WBTC_BASE = 0\n",
    "WBTC_at_ideal = 0.07\n",
    "WBTC_at_Full = 1\n",
    "WBTC_Reserve_Factor = 0.2\n",
    "WBTCBorrows = \n",
    "WBTCTotal_liqiudity = \n",
    "WBTCUTIL = WBTCBorrows / WBTCTotal_liqiudity\n",
    "WBTCLend_APY = WBTCUTIL * (WBTCVariable_Rate) * (1 - WBTC_Reserve_Factor)\n",
    "\n",
    "\n",
    "\n",
    "AAVEMaximumLTV = 0.50\n",
    "AAVELiquidationthreshold = 0.65\n",
    "AAVELiquidationpenalty = 0.10\n",
    "\n",
    "\n",
    "\n",
    "\n",
    "\n",
    "\n",
    "\n",
    "\n",
    "\n",
    "\n",
    "\n"
   ]
  },
  {
   "cell_type": "code",
   "execution_count": null,
   "metadata": {},
   "outputs": [],
   "source": []
  },
  {
   "cell_type": "code",
   "execution_count": null,
   "metadata": {},
   "outputs": [],
   "source": []
  },
  {
   "cell_type": "code",
   "execution_count": null,
   "metadata": {},
   "outputs": [],
   "source": []
  },
  {
   "cell_type": "code",
   "execution_count": null,
   "metadata": {},
   "outputs": [],
   "source": []
  }
 ],
 "metadata": {
  "kernelspec": {
   "display_name": "Python 3",
   "language": "python",
   "name": "python3"
  },
  "language_info": {
   "codemirror_mode": {
    "name": "ipython",
    "version": 3
   },
   "file_extension": ".py",
   "mimetype": "text/x-python",
   "name": "python",
   "nbconvert_exporter": "python",
   "pygments_lexer": "ipython3",
   "version": "3.8.5"
  }
 },
 "nbformat": 4,
 "nbformat_minor": 4
}
