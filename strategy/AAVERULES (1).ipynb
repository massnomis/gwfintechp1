{
 "cells": [
  {
   "cell_type": "code",
   "execution_count": 15,
   "metadata": {},
   "outputs": [
    {
     "ename": "SyntaxError",
     "evalue": "unexpected EOF while parsing (<ipython-input-15-aec4d101425e>, line 5)",
     "output_type": "error",
     "traceback": [
      "\u001b[1;36m  File \u001b[1;32m\"<ipython-input-15-aec4d101425e>\"\u001b[1;36m, line \u001b[1;32m5\u001b[0m\n\u001b[1;33m    response = request.json\u001b[0m\n\u001b[1;37m                           ^\u001b[0m\n\u001b[1;31mSyntaxError\u001b[0m\u001b[1;31m:\u001b[0m unexpected EOF while parsing\n"
     ]
    }
   ],
   "source": [
    "v\n",
    "\n",
    "DAIMaximumLTV = 0.75\n",
    "DAILiquidationthreshold =  0.80\n",
    "DAILiquidationpenalty = 0.05\n",
    "DAI_Ideal_UTIL = 0.80\n",
    "DAI_BASE = 0\n",
    "DAI_at_ideal = 0.04\n",
    "DAI_at_Full = 0.75\n",
    "DAI_Reserve_Factor = 0.1\n",
    "DAIBorrows = \n",
    "DAITotal_liqiudity = \n",
    "DAIUTIL = DAIBorrows / DAITotal_liqiudity\n",
    "DAILend_APY = DAIUTIL * (DAIVariable_Rate) * (1 - DAI_Reserve_Factor)\n",
    "\n",
    "USDCMaximumLTV = 0.80\n",
    "USDCLiquidationthreshold = 0.85\n",
    "USDCLiquidationpenalty = 0.05\n",
    "USDC_Ideal_UTIL = 0.90\n",
    "USDC_BASE = 0\n",
    "USDC_at_ideal = 0.04\n",
    "USDC_at_Full = 0.6\n",
    "USDC_Reserve_Factor = 0.1\n",
    "USDCBorrows = \n",
    "USDCTotal_liqiudity = \n",
    "USDCUTIL = USDCBorrows / USDCTotal_liqiudity\n",
    "USDCLend_APY = USDCUTIL * (USDCVariable_Rate) * (1 - USDC_Reserve_Factor)\n",
    "\n",
    "USDTMaximumLTV = 0.0\n",
    "USDT_Ideal_UTIL = 0.90\n",
    "USDT_BASE = 0\n",
    "USDT_at_ideal = 0.04\n",
    "USDT_at_Full = 0.6\n",
    "USDT_Reserve_Factor = 0.1\n",
    "USDTBorrows = \n",
    "USDTTotal_liqiudity = \n",
    "USDTUTIL = USDTBorrows / USDTTotal_liqiudity\n",
    "USDTLend_APY = USDTUTIL * (USDTVariable_Rate) * (1 - USDT_Reserve_Factor)\n",
    "\n",
    "WETHMaximumLTV = 0.80\n",
    "WETHLiquidationthreshold = 0.825\n",
    "WETHLiquidationpenalty = 0.05\n",
    "WETH_Ideal_UTIL = 0.65\n",
    "WETH_BASE = 0\n",
    "WETH_at_ideal = 0.08\n",
    "WETH_at_Full = 1\n",
    "WETH_Reserve_Factor = 0.1\n",
    "WETHBorrows = \n",
    "WETHTotal_liqiudity = \n",
    "WETHUTIL = WETHBorrows / WETHTotal_liqiudity\n",
    "WETHLend_APY = WETHUTIL * (WETHVariable_Rate) * (1 - WETH_Reserve_Factor)\n",
    "\n",
    "WBTCMaximumLTV = 0.70\n",
    "WBTCLiquidationthreshold = 0.75\n",
    "WBTCLiquidationpenalty = 0.10\n",
    "WBTC_Ideal_UTIL = 0.45\n",
    "WBTC_BASE = 0\n",
    "WBTC_at_ideal = 0.07\n",
    "WBTC_at_Full = 1\n",
    "WBTC_Reserve_Factor = 0.2\n",
    "WBTCBorrows = \n",
    "WBTCTotal_liqiudity = \n",
    "WBTCUTIL = WBTCBorrows / WBTCTotal_liqiudity\n",
    "WBTCLend_APY = WBTCUTIL * (WBTCVariable_Rate) * (1 - WBTC_Reserve_Factor)\n",
    "\n",
    "AAVEMaximumLTV = 0.50\n",
    "AAVELiquidationthreshold = 0.65\n",
    "AAVELiquidationpenalty = 0.10\n"
   ]
  },
  {
   "cell_type": "code",
   "execution_count": 19,
   "metadata": {},
   "outputs": [
    {
     "ename": "SyntaxError",
     "evalue": "invalid syntax (<ipython-input-19-fb675b4fc265>, line 9)",
     "output_type": "error",
     "traceback": [
      "\u001b[1;36m  File \u001b[1;32m\"<ipython-input-19-fb675b4fc265>\"\u001b[1;36m, line \u001b[1;32m9\u001b[0m\n\u001b[1;33m    MATICBorrows =\u001b[0m\n\u001b[1;37m                   ^\u001b[0m\n\u001b[1;31mSyntaxError\u001b[0m\u001b[1;31m:\u001b[0m invalid syntax\n"
     ]
    }
   ],
   "source": []
  },
  {
   "cell_type": "code",
   "execution_count": 30,
   "metadata": {},
   "outputs": [
    {
     "name": "stdout",
     "output_type": "stream",
     "text": [
      "0.01\n"
     ]
    }
   ],
   "source": [
    "MATICMaximumLTV = 0.50\n",
    "MATICLiquidationthreshold = 0.65\n",
    "MATICLiquidationpenalty = 0.10\n",
    "MATIC_Ideal_UTIL = 0.45\n",
    "MATIC_BASE = 0\n",
    "MATIC_at_ideal = 0.07\n",
    "MATIC_at_Full = 3\n",
    "MATIC_Reserve_Factor = 0.2\n",
    "MATICBorrows = 1\n",
    "MATICTotal_liqiudity = 100\n",
    "MATICUTIL = MATICBorrows / MATICTotal_liqiudity\n",
    "\n",
    "print(MATICUTIL)"
   ]
  },
  {
   "cell_type": "code",
   "execution_count": 53,
   "metadata": {},
   "outputs": [
    {
     "name": "stdout",
     "output_type": "stream",
     "text": [
      "0.01\n",
      "0.0015555555555555557\n",
      "0.0012444444444444447\n"
     ]
    }
   ],
   "source": [
    "if MATICUTIL < MATIC_Ideal_UTIL:\n",
    "        MATICVariable_Rate = (MATICUTIL / MATIC_Ideal_UTIL) * MATIC_at_ideal\n",
    "elif MATICUTIL >= MATIC_Ideal_UTIL:\n",
    "        MATICVariable_Rate = MATIC_at_ideal + ( MATICUTIL - MATIC_Ideal_UTIL /  (1 - MATIC_Ideal_UTIL )) * MATIC_at_Full\n",
    "\n",
    "\n",
    "MATICLend_APY = (MATICVariable_Rate) * (1 - MATIC_Reserve_Factor)\n",
    "\n",
    "print(MATICUTIL)\n",
    "print(MATICVariable_Rate)\n",
    "print(MATICLend_APY)\n"
   ]
  },
  {
   "cell_type": "code",
   "execution_count": 31,
   "metadata": {},
   "outputs": [
    {
     "name": "stdout",
     "output_type": "stream",
     "text": [
      "0.022222222222222223\n",
      "0.0015555555555555557\n"
     ]
    }
   ],
   "source": []
  },
  {
   "cell_type": "code",
   "execution_count": null,
   "metadata": {},
   "outputs": [],
   "source": []
  }
 ],
 "metadata": {
  "kernelspec": {
   "display_name": "Python 3",
   "language": "python",
   "name": "python3"
  },
  "language_info": {
   "codemirror_mode": {
    "name": "ipython",
    "version": 3
   },
   "file_extension": ".py",
   "mimetype": "text/x-python",
   "name": "python",
   "nbconvert_exporter": "python",
   "pygments_lexer": "ipython3",
   "version": "3.8.5"
  }
 },
 "nbformat": 4,
 "nbformat_minor": 4
}
